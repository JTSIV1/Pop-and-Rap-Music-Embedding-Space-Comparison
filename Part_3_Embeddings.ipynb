{
 "cells": [
  {
   "cell_type": "markdown",
   "metadata": {},
   "source": [
    "### Training Embeddings"
   ]
  },
  {
   "cell_type": "markdown",
   "metadata": {},
   "source": [
    "Imports"
   ]
  },
  {
   "cell_type": "code",
   "execution_count": 1,
   "metadata": {},
   "outputs": [
    {
     "name": "stderr",
     "output_type": "stream",
     "text": [
      "[nltk_data] Downloading package punkt to\n",
      "[nltk_data]     C:\\Users\\johns\\AppData\\Roaming\\nltk_data...\n",
      "[nltk_data]   Package punkt is already up-to-date!\n"
     ]
    }
   ],
   "source": [
    "from gensim.models import Word2Vec\n",
    "import nltk\n",
    "import warnings\n",
    "from tqdm import tqdm\n",
    " \n",
    "nltk.download('punkt')\n",
    "warnings.filterwarnings(action='ignore')\n"
   ]
  },
  {
   "cell_type": "markdown",
   "metadata": {},
   "source": [
    "Training and Saving Skipgram Models for pop/rap"
   ]
  },
  {
   "cell_type": "code",
   "execution_count": 2,
   "metadata": {},
   "outputs": [
    {
     "name": "stdout",
     "output_type": "stream",
     "text": [
      "pop\n",
      "loaded content\n"
     ]
    },
    {
     "name": "stderr",
     "output_type": "stream",
     "text": [
      "100%|██████████| 312552/312552 [00:05<00:00, 61455.50it/s]\n"
     ]
    },
    {
     "name": "stdout",
     "output_type": "stream",
     "text": [
      "tokenized\n",
      "saving\n",
      "rap\n",
      "loaded content\n"
     ]
    },
    {
     "name": "stderr",
     "output_type": "stream",
     "text": [
      "100%|██████████| 375342/375342 [00:06<00:00, 62019.03it/s]\n"
     ]
    },
    {
     "name": "stdout",
     "output_type": "stream",
     "text": [
      "tokenized\n",
      "saving\n"
     ]
    }
   ],
   "source": [
    "files = ['pop', 'rap']\n",
    "models = []\n",
    "\n",
    "for f in files:\n",
    "    print(f)\n",
    "    content = ''\n",
    "    with open(f'Genius Data/{f}_songs.txt', \"r\") as file:\n",
    "        content = file.read()\n",
    "\n",
    "    print(\"loaded content\")\n",
    "\n",
    "    data = []\n",
    "    \n",
    "    # iterate through each sentence in the file\n",
    "    content = content.split('.')\n",
    "    content = content[:int(len(content) / 10)]\n",
    "    for i in tqdm(content):\n",
    "        temp = []\n",
    "    \n",
    "        # tokenize the sentence into words\n",
    "        for j in i.split(' '):\n",
    "            temp.append(j.lower().replace('.', ''))\n",
    "    \n",
    "        data.append(temp)\n",
    "    print('tokenized')\n",
    "\n",
    "    del content\n",
    "\n",
    "    model = Word2Vec(data, min_count=1, vector_size=100,\n",
    "                                window=5, sg=1)\n",
    "    \n",
    "    print(\"saving\")\n",
    "    model.save(f\"{f}_sg.model\")\n",
    "    del data\n",
    "    del model"
   ]
  }
 ],
 "metadata": {
  "kernelspec": {
   "display_name": "base",
   "language": "python",
   "name": "python3"
  },
  "language_info": {
   "codemirror_mode": {
    "name": "ipython",
    "version": 3
   },
   "file_extension": ".py",
   "mimetype": "text/x-python",
   "name": "python",
   "nbconvert_exporter": "python",
   "pygments_lexer": "ipython3",
   "version": "3.11.5"
  }
 },
 "nbformat": 4,
 "nbformat_minor": 2
}
