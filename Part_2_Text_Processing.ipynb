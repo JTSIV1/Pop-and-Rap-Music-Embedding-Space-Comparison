{
 "cells": [
  {
   "cell_type": "markdown",
   "metadata": {},
   "source": [
    "### Process Lyrics"
   ]
  },
  {
   "cell_type": "markdown",
   "metadata": {},
   "source": [
    "Imports"
   ]
  },
  {
   "cell_type": "code",
   "execution_count": 1,
   "metadata": {},
   "outputs": [],
   "source": [
    "import re\n",
    "import pandas as pd"
   ]
  },
  {
   "cell_type": "markdown",
   "metadata": {},
   "source": [
    "Helper Functions"
   ]
  },
  {
   "cell_type": "code",
   "execution_count": 2,
   "metadata": {},
   "outputs": [],
   "source": [
    "def clean_lyrics(lyrics):\n",
    "  # Replace \\n with space\n",
    "  lyrics = lyrics.replace('\\n', ' ')\n",
    "\n",
    "  # Remove all strings between '[' and ']'\n",
    "  lyrics = re.sub(r'\\[.*?\\]', '', lyrics)\n",
    "\n",
    "  # Remove double spaces\n",
    "  lyrics = re.sub(r'\\s\\s+', ' ', lyrics)\n",
    "\n",
    "  # Get rid of punctuation\n",
    "  lyrics = lyrics.replace(\"?\", \".\").replace(\"!\", \".\").replace('-', '').replace('(', '').replace(')', '').replace(',', '').replace('\"', '')\n",
    "\n",
    "  return lyrics\n",
    "\n",
    "def combine_lyrics_to_filepath(filepath, data):\n",
    "  # Combine all lyrics into one string\n",
    "  lyrics_string = \" \".join(clean_lyrics(lyrics) for lyrics in data['lyrics'])\n",
    "  \n",
    "  # Write lyrics to a text file\n",
    "  with open(filepath, \"w\") as f:\n",
    "    f.write(lyrics_string)"
   ]
  },
  {
   "cell_type": "markdown",
   "metadata": {},
   "source": [
    "Format The Song Files"
   ]
  },
  {
   "cell_type": "code",
   "execution_count": 3,
   "metadata": {},
   "outputs": [],
   "source": [
    "files = ['pop_songs', 'rap_songs']\n",
    "\n",
    "for f in files:\n",
    "    df = pd.read_csv(f'Genius Data/{f}.gzip', compression='gzip')\n",
    "    combine_lyrics_to_filepath(f'Genius Data/{f}.txt', df)\n",
    "    del df"
   ]
  }
 ],
 "metadata": {
  "kernelspec": {
   "display_name": "base",
   "language": "python",
   "name": "python3"
  },
  "language_info": {
   "codemirror_mode": {
    "name": "ipython",
    "version": 3
   },
   "file_extension": ".py",
   "mimetype": "text/x-python",
   "name": "python",
   "nbconvert_exporter": "python",
   "pygments_lexer": "ipython3",
   "version": "3.11.5"
  }
 },
 "nbformat": 4,
 "nbformat_minor": 2
}
