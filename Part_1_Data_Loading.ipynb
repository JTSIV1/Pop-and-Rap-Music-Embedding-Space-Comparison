{
 "cells": [
  {
   "cell_type": "markdown",
   "metadata": {},
   "source": [
    "### Loading Genius Data and Separating Data"
   ]
  },
  {
   "cell_type": "markdown",
   "metadata": {},
   "source": [
    "Imports"
   ]
  },
  {
   "cell_type": "code",
   "execution_count": 1,
   "metadata": {},
   "outputs": [],
   "source": [
    "import pandas as pd\n",
    "import random"
   ]
  },
  {
   "cell_type": "markdown",
   "metadata": {},
   "source": [
    "Load CSV"
   ]
  },
  {
   "cell_type": "code",
   "execution_count": 2,
   "metadata": {},
   "outputs": [
    {
     "data": {
      "text/plain": [
       "(3541639, 11)"
      ]
     },
     "execution_count": 2,
     "metadata": {},
     "output_type": "execute_result"
    }
   ],
   "source": [
    "n = 3093218\n",
    "s = 1500000\n",
    "skip = sorted(random.sample(range(n), n-s))\n",
    "# dtype = {'title' : str, 'tag' : str, 'artist': str, 'year' : str, 'views' : str, 'fearures': str, 'lyrics' : str, 'id': str, 'lang1' : str, 'lang2' : str, 'lang' : str}\n",
    "df = pd.read_csv('Genius Data/song_lyrics.csv', low_memory=True, skiprows=skip, names=['title', 'tag', 'artist', 'year', 'views', 'fearures', 'lyrics', 'id', 'lang1', 'lang2', 'lang'], dtype=str)\n",
    "df.shape"
   ]
  },
  {
   "cell_type": "markdown",
   "metadata": {},
   "source": [
    "Filter for English Only"
   ]
  },
  {
   "cell_type": "code",
   "execution_count": 3,
   "metadata": {},
   "outputs": [],
   "source": [
    "df = df[df['lang'] == 'en']"
   ]
  },
  {
   "cell_type": "markdown",
   "metadata": {},
   "source": [
    "Save Pop Songs"
   ]
  },
  {
   "cell_type": "code",
   "execution_count": 5,
   "metadata": {},
   "outputs": [
    {
     "name": "stdout",
     "output_type": "stream",
     "text": [
      "           title  tag           artist  year    views                fearures  \\\n",
      "166     Horchata  pop  Vampire Weekend  2009   102550                      {}   \n",
      "355      Anxiety  pop  Black Eyed Peas  2003    13865          {\"Papa Roach\"}   \n",
      "378  Up Up  Away  pop         Kid Cudi  2009   226670                      {}   \n",
      "460    Ego Remix  pop           Beyonc  2009   139941  {\"Kanye West\",Beyoncé}   \n",
      "479   Poker Face  pop        Lady Gaga  2008  2466148                      {}   \n",
      "\n",
      "                                                lyrics    id lang1 lang2 lang  \n",
      "166  [Verse 1]\\nIn December, drinking horchata\\nI'd...   384    en    en   en  \n",
      "355  [Verse 1]\\nI feel like I wanna smack somebody\\...   741    en    en   en  \n",
      "378  [Verse 1]\\nNow when the sun come up\\nI'll be t...   778    en    en   en  \n",
      "460  [Verse 1: Kanye West]\\nI got a big ego (Ha ha ...   911    en    en   en  \n",
      "479  [Intro]\\nMum mum mum mah\\nMum mum mum mah\\nMum...  1316    en    en   en  \n"
     ]
    }
   ],
   "source": [
    "pop_df = df[df['tag'] == \"pop\"]\n",
    "pop_df.to_csv('Genius Data/pop_songs.gzip', compression='gzip')\n",
    "print(pop_df.head())\n",
    "del pop_df"
   ]
  },
  {
   "cell_type": "markdown",
   "metadata": {},
   "source": [
    "Save Rap Songs"
   ]
  },
  {
   "cell_type": "code",
   "execution_count": 10,
   "metadata": {},
   "outputs": [],
   "source": [
    "rap_df = df[df['tag'] == \"rap\"]\n",
    "rap_df.to_csv('Genius Data/rap_songs.gzip', compression='gzip')\n",
    "print(rap_df.head())\n",
    "del rap_df"
   ]
  }
 ],
 "metadata": {
  "kernelspec": {
   "display_name": "base",
   "language": "python",
   "name": "python3"
  },
  "language_info": {
   "codemirror_mode": {
    "name": "ipython",
    "version": 3
   },
   "file_extension": ".py",
   "mimetype": "text/x-python",
   "name": "python",
   "nbconvert_exporter": "python",
   "pygments_lexer": "ipython3",
   "version": "3.11.5"
  }
 },
 "nbformat": 4,
 "nbformat_minor": 2
}
